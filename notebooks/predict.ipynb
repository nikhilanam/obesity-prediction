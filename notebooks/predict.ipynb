{
 "cells": [
  {
   "cell_type": "markdown",
   "metadata": {},
   "source": [
    "## Prediction of Obesity Type using People's Habits"
   ]
  },
  {
   "cell_type": "markdown",
   "metadata": {},
   "source": [
    "### Necessary Libraries"
   ]
  },
  {
   "cell_type": "code",
   "execution_count": 42,
   "metadata": {},
   "outputs": [],
   "source": [
    "#Importing Libraries\n",
    "import numpy as np\n",
    "import math\n",
    "import os\n",
    "import pandas as pd\n",
    "import matplotlib.pyplot as plt\n",
    "%matplotlib inline\n",
    "import seaborn as sns\n",
    "from sklearn.preprocessing import StandardScaler\n",
    "from sklearn.ensemble import RandomForestClassifier as RFC\n",
    "from sklearn.tree import DecisionTreeClassifier;\n",
    "from sklearn.metrics import accuracy_score, confusion_matrix, precision_score, recall_score, mean_squared_error\n",
    "from sklearn.model_selection import train_test_split as tts\n",
    "from sklearn.preprocessing import OrdinalEncoder, OneHotEncoder, LabelEncoder\n",
    "from sklearn.model_selection import KFold, GridSearchCV;\n",
    "from sklearn.ensemble import GradientBoostingClassifier, RandomForestClassifier, StackingClassifier;\n",
    "from xgboost import XGBClassifier;\n",
    "from sklearn.svm import SVC\n",
    "from tqdm.notebook import tqdm;"
   ]
  },
  {
   "cell_type": "markdown",
   "metadata": {},
   "source": [
    "### Importing Data"
   ]
  },
  {
   "cell_type": "code",
   "execution_count": 43,
   "metadata": {},
   "outputs": [],
   "source": [
    "#Getting Directory of file dynamically\n",
    "current_directory = os.getcwd()\n",
    "input_path = os.path.join(current_directory, '..', 'input')\n",
    "output_path = os.path.join(current_directory, '..', 'output')\n",
    "\n",
    "#Reading CSV Files\n",
    "train_data = pd.read_csv(f'{input_path}/train.csv')\n",
    "test_data = pd.read_csv(f'{input_path}/test.csv')"
   ]
  },
  {
   "cell_type": "code",
   "execution_count": 44,
   "metadata": {},
   "outputs": [
    {
     "name": "stdout",
     "output_type": "stream",
     "text": [
      "Train Set - Null Values: \n",
      "id                                0\n",
      "Gender                            0\n",
      "Age                               0\n",
      "Height                            0\n",
      "Weight                            0\n",
      "family_history_with_overweight    0\n",
      "FAVC                              0\n",
      "FCVC                              0\n",
      "NCP                               0\n",
      "CAEC                              0\n",
      "SMOKE                             0\n",
      "CH2O                              0\n",
      "SCC                               0\n",
      "FAF                               0\n",
      "TUE                               0\n",
      "CALC                              0\n",
      "MTRANS                            0\n",
      "NObeyesdad                        0\n",
      "dtype: int64\n"
     ]
    }
   ],
   "source": [
    "#Checking Null Values\n",
    "print(f'Train Set - Null Values: \\n{train_data.isna().sum()}')"
   ]
  },
  {
   "cell_type": "code",
   "execution_count": 45,
   "metadata": {},
   "outputs": [
    {
     "name": "stdout",
     "output_type": "stream",
     "text": [
      "Test Set - Null Values: \n",
      "id                                0\n",
      "Gender                            0\n",
      "Age                               0\n",
      "Height                            0\n",
      "Weight                            0\n",
      "family_history_with_overweight    0\n",
      "FAVC                              0\n",
      "FCVC                              0\n",
      "NCP                               0\n",
      "CAEC                              0\n",
      "SMOKE                             0\n",
      "CH2O                              0\n",
      "SCC                               0\n",
      "FAF                               0\n",
      "TUE                               0\n",
      "CALC                              0\n",
      "MTRANS                            0\n",
      "NObeyesdad                        0\n",
      "dtype: int64\n"
     ]
    }
   ],
   "source": [
    "print(f'Test Set - Null Values: \\n{train_data.isna().sum()}')"
   ]
  },
  {
   "cell_type": "code",
   "execution_count": 46,
   "metadata": {},
   "outputs": [
    {
     "data": {
      "text/plain": [
       "id                                  int64\n",
       "Gender                             object\n",
       "Age                               float64\n",
       "Height                            float64\n",
       "Weight                            float64\n",
       "family_history_with_overweight     object\n",
       "FAVC                               object\n",
       "FCVC                              float64\n",
       "NCP                               float64\n",
       "CAEC                               object\n",
       "SMOKE                              object\n",
       "CH2O                              float64\n",
       "SCC                                object\n",
       "FAF                               float64\n",
       "TUE                               float64\n",
       "CALC                               object\n",
       "MTRANS                             object\n",
       "NObeyesdad                         object\n",
       "dtype: object"
      ]
     },
     "execution_count": 46,
     "metadata": {},
     "output_type": "execute_result"
    }
   ],
   "source": [
    "train_data.dtypes"
   ]
  },
  {
   "cell_type": "code",
   "execution_count": 47,
   "metadata": {},
   "outputs": [
    {
     "data": {
      "text/plain": [
       "<bound method DataFrame.transpose of                 id           Age        Height        Weight          FCVC  \\\n",
       "count  20758.00000  20758.000000  20758.000000  20758.000000  20758.000000   \n",
       "mean   10378.50000     23.841804      1.700245     87.887768      2.445908   \n",
       "std     5992.46278      5.688072      0.087312     26.379443      0.533218   \n",
       "min        0.00000     14.000000      1.450000     39.000000      1.000000   \n",
       "25%     5189.25000     20.000000      1.631856     66.000000      2.000000   \n",
       "50%    10378.50000     22.815416      1.700000     84.064875      2.393837   \n",
       "75%    15567.75000     26.000000      1.762887    111.600553      3.000000   \n",
       "max    20757.00000     61.000000      1.975663    165.057269      3.000000   \n",
       "\n",
       "                NCP          CH2O           FAF           TUE  \n",
       "count  20758.000000  20758.000000  20758.000000  20758.000000  \n",
       "mean       2.761332      2.029418      0.981747      0.616756  \n",
       "std        0.705375      0.608467      0.838302      0.602113  \n",
       "min        1.000000      1.000000      0.000000      0.000000  \n",
       "25%        3.000000      1.792022      0.008013      0.000000  \n",
       "50%        3.000000      2.000000      1.000000      0.573887  \n",
       "75%        3.000000      2.549617      1.587406      1.000000  \n",
       "max        4.000000      3.000000      3.000000      2.000000  >"
      ]
     },
     "execution_count": 47,
     "metadata": {},
     "output_type": "execute_result"
    }
   ],
   "source": [
    "#Statistics of Data\n",
    "train_data.describe().transpose"
   ]
  },
  {
   "cell_type": "markdown",
   "metadata": {},
   "source": [
    "### EDA: Data Visualization"
   ]
  },
  {
   "cell_type": "code",
   "execution_count": 48,
   "metadata": {},
   "outputs": [
    {
     "data": {
      "text/html": [
       "<div>\n",
       "<style scoped>\n",
       "    .dataframe tbody tr th:only-of-type {\n",
       "        vertical-align: middle;\n",
       "    }\n",
       "\n",
       "    .dataframe tbody tr th {\n",
       "        vertical-align: top;\n",
       "    }\n",
       "\n",
       "    .dataframe thead th {\n",
       "        text-align: right;\n",
       "    }\n",
       "</style>\n",
       "<table border=\"1\" class=\"dataframe\">\n",
       "  <thead>\n",
       "    <tr style=\"text-align: right;\">\n",
       "      <th></th>\n",
       "      <th>id</th>\n",
       "      <th>Gender</th>\n",
       "      <th>Age</th>\n",
       "      <th>Height</th>\n",
       "      <th>Weight</th>\n",
       "      <th>family_history_with_overweight</th>\n",
       "      <th>FAVC</th>\n",
       "      <th>FCVC</th>\n",
       "      <th>NCP</th>\n",
       "      <th>CAEC</th>\n",
       "      <th>SMOKE</th>\n",
       "      <th>CH2O</th>\n",
       "      <th>SCC</th>\n",
       "      <th>FAF</th>\n",
       "      <th>TUE</th>\n",
       "      <th>CALC</th>\n",
       "      <th>MTRANS</th>\n",
       "      <th>NObeyesdad</th>\n",
       "    </tr>\n",
       "  </thead>\n",
       "  <tbody>\n",
       "    <tr>\n",
       "      <th>0</th>\n",
       "      <td>0</td>\n",
       "      <td>Male</td>\n",
       "      <td>24.443011</td>\n",
       "      <td>1.699998</td>\n",
       "      <td>81.669950</td>\n",
       "      <td>yes</td>\n",
       "      <td>yes</td>\n",
       "      <td>2.000000</td>\n",
       "      <td>2.983297</td>\n",
       "      <td>Sometimes</td>\n",
       "      <td>no</td>\n",
       "      <td>2.763573</td>\n",
       "      <td>no</td>\n",
       "      <td>0.000000</td>\n",
       "      <td>0.976473</td>\n",
       "      <td>Sometimes</td>\n",
       "      <td>Public_Transportation</td>\n",
       "      <td>Overweight_Level_II</td>\n",
       "    </tr>\n",
       "    <tr>\n",
       "      <th>1</th>\n",
       "      <td>1</td>\n",
       "      <td>Female</td>\n",
       "      <td>18.000000</td>\n",
       "      <td>1.560000</td>\n",
       "      <td>57.000000</td>\n",
       "      <td>yes</td>\n",
       "      <td>yes</td>\n",
       "      <td>2.000000</td>\n",
       "      <td>3.000000</td>\n",
       "      <td>Frequently</td>\n",
       "      <td>no</td>\n",
       "      <td>2.000000</td>\n",
       "      <td>no</td>\n",
       "      <td>1.000000</td>\n",
       "      <td>1.000000</td>\n",
       "      <td>no</td>\n",
       "      <td>Automobile</td>\n",
       "      <td>Normal_Weight</td>\n",
       "    </tr>\n",
       "    <tr>\n",
       "      <th>2</th>\n",
       "      <td>2</td>\n",
       "      <td>Female</td>\n",
       "      <td>18.000000</td>\n",
       "      <td>1.711460</td>\n",
       "      <td>50.165754</td>\n",
       "      <td>yes</td>\n",
       "      <td>yes</td>\n",
       "      <td>1.880534</td>\n",
       "      <td>1.411685</td>\n",
       "      <td>Sometimes</td>\n",
       "      <td>no</td>\n",
       "      <td>1.910378</td>\n",
       "      <td>no</td>\n",
       "      <td>0.866045</td>\n",
       "      <td>1.673584</td>\n",
       "      <td>no</td>\n",
       "      <td>Public_Transportation</td>\n",
       "      <td>Insufficient_Weight</td>\n",
       "    </tr>\n",
       "    <tr>\n",
       "      <th>3</th>\n",
       "      <td>3</td>\n",
       "      <td>Female</td>\n",
       "      <td>20.952737</td>\n",
       "      <td>1.710730</td>\n",
       "      <td>131.274851</td>\n",
       "      <td>yes</td>\n",
       "      <td>yes</td>\n",
       "      <td>3.000000</td>\n",
       "      <td>3.000000</td>\n",
       "      <td>Sometimes</td>\n",
       "      <td>no</td>\n",
       "      <td>1.674061</td>\n",
       "      <td>no</td>\n",
       "      <td>1.467863</td>\n",
       "      <td>0.780199</td>\n",
       "      <td>Sometimes</td>\n",
       "      <td>Public_Transportation</td>\n",
       "      <td>Obesity_Type_III</td>\n",
       "    </tr>\n",
       "    <tr>\n",
       "      <th>4</th>\n",
       "      <td>4</td>\n",
       "      <td>Male</td>\n",
       "      <td>31.641081</td>\n",
       "      <td>1.914186</td>\n",
       "      <td>93.798055</td>\n",
       "      <td>yes</td>\n",
       "      <td>yes</td>\n",
       "      <td>2.679664</td>\n",
       "      <td>1.971472</td>\n",
       "      <td>Sometimes</td>\n",
       "      <td>no</td>\n",
       "      <td>1.979848</td>\n",
       "      <td>no</td>\n",
       "      <td>1.967973</td>\n",
       "      <td>0.931721</td>\n",
       "      <td>Sometimes</td>\n",
       "      <td>Public_Transportation</td>\n",
       "      <td>Overweight_Level_II</td>\n",
       "    </tr>\n",
       "  </tbody>\n",
       "</table>\n",
       "</div>"
      ],
      "text/plain": [
       "   id  Gender        Age    Height      Weight family_history_with_overweight  \\\n",
       "0   0    Male  24.443011  1.699998   81.669950                            yes   \n",
       "1   1  Female  18.000000  1.560000   57.000000                            yes   \n",
       "2   2  Female  18.000000  1.711460   50.165754                            yes   \n",
       "3   3  Female  20.952737  1.710730  131.274851                            yes   \n",
       "4   4    Male  31.641081  1.914186   93.798055                            yes   \n",
       "\n",
       "  FAVC      FCVC       NCP        CAEC SMOKE      CH2O SCC       FAF  \\\n",
       "0  yes  2.000000  2.983297   Sometimes    no  2.763573  no  0.000000   \n",
       "1  yes  2.000000  3.000000  Frequently    no  2.000000  no  1.000000   \n",
       "2  yes  1.880534  1.411685   Sometimes    no  1.910378  no  0.866045   \n",
       "3  yes  3.000000  3.000000   Sometimes    no  1.674061  no  1.467863   \n",
       "4  yes  2.679664  1.971472   Sometimes    no  1.979848  no  1.967973   \n",
       "\n",
       "        TUE       CALC                 MTRANS           NObeyesdad  \n",
       "0  0.976473  Sometimes  Public_Transportation  Overweight_Level_II  \n",
       "1  1.000000         no             Automobile        Normal_Weight  \n",
       "2  1.673584         no  Public_Transportation  Insufficient_Weight  \n",
       "3  0.780199  Sometimes  Public_Transportation     Obesity_Type_III  \n",
       "4  0.931721  Sometimes  Public_Transportation  Overweight_Level_II  "
      ]
     },
     "execution_count": 48,
     "metadata": {},
     "output_type": "execute_result"
    }
   ],
   "source": [
    "plot_data = train_data.copy()\n",
    "train_data.head(5)"
   ]
  },
  {
   "cell_type": "code",
   "execution_count": 49,
   "metadata": {},
   "outputs": [
    {
     "data": {
      "image/png": "[encoded data removed]",
      "text/plain": [
       "<Figure size 1200x500 with 2 Axes>"
      ]
     },
     "metadata": {},
     "output_type": "display_data"
    }
   ],
   "source": [
    "#Plotting Gender dsitrbution among Age and Weight\n",
    "fig, axs = plt.subplots(1, 2, figsize=(12, 5))\n",
    "\n",
    "# Plot histogram for ages\n",
    "axs[0].hist(plot_data[plot_data['Gender'] == 'Male']['Age'], color='blue', alpha=0.7, label='Male')\n",
    "axs[0].hist(plot_data[plot_data['Gender'] == 'Female']['Age'], color='red', alpha=0.7, label='Female')\n",
    "axs[0].set_xlabel('Age')\n",
    "axs[0].set_ylabel('Total Count')\n",
    "axs[0].set_xticks(np.arange(10,60,5))\n",
    "axs[0].legend()\n",
    "\n",
    "# Plot histogram for weights\n",
    "axs[1].hist(plot_data[plot_data['Gender'] == 'Male']['Weight'], color='blue', alpha=0.7, label='Male')\n",
    "axs[1].hist(plot_data[plot_data['Gender'] == 'Female']['Weight'], color='red', alpha=0.7, label='Female')\n",
    "axs[1].set_xlabel('Weight')\n",
    "axs[1].set_ylabel('Total Count')\n",
    "axs[1].legend()\n",
    "\n",
    "# Show the plot\n",
    "plt.tight_layout()\n",
    "plt.show()"
   ]
  },
  {
   "cell_type": "code",
   "execution_count": 50,
   "metadata": {},
   "outputs": [
    {
     "data": {
      "image/png": "[encoded data removed]",
      "text/plain": [
       "<Figure size 640x480 with 1 Axes>"
      ]
     },
     "metadata": {},
     "output_type": "display_data"
    }
   ],
   "source": [
    "#Count of Labels in our dataset\n",
    "#This shows balanced dataset\n",
    "plot_data['NObeyesdad'].value_counts().plot(kind='bar', color='red', alpha=0.7)\n",
    "plt.xlabel('Obesity Type')\n",
    "plt.ylabel('Count')\n",
    "plt.xticks(rotation=45)\n",
    "plt.show()"
   ]
  },
  {
   "cell_type": "code",
   "execution_count": 51,
   "metadata": {},
   "outputs": [
    {
     "data": {
      "image/png": "[encoded data removed]",
      "text/plain": [
       "<Figure size 1000x600 with 1 Axes>"
      ]
     },
     "metadata": {},
     "output_type": "display_data"
    }
   ],
   "source": [
    "sns.set_theme(style=\"whitegrid\")\n",
    "\n",
    "# Create the count plot\n",
    "plt.figure(figsize=(10, 6))\n",
    "sns.countplot(x='NObeyesdad', hue='family_history_with_overweight', data=plot_data, palette='Set1')\n",
    "plt.title('Count of Overweigth Family History per Obesity Type')\n",
    "plt.xlabel('Obesity Type')\n",
    "plt.ylabel('Count')\n",
    "plt.xticks(rotation=45, ha='right')\n",
    "plt.legend(title='Family Overweight?')\n",
    "plt.tight_layout()\n",
    "plt.show()"
   ]
  },
  {
   "cell_type": "markdown",
   "metadata": {},
   "source": [
    "### Feature Engineering"
   ]
  },
  {
   "cell_type": "code",
   "execution_count": 52,
   "metadata": {},
   "outputs": [],
   "source": [
    "df = pd.concat([train_data,test_data], axis=0, ignore_index=True)\n",
    "df.reset_index(drop=True,inplace=True)"
   ]
  },
  {
   "cell_type": "code",
   "execution_count": 53,
   "metadata": {},
   "outputs": [],
   "source": [
    "#Converting Age into categories\n",
    "age_category = pd.cut(df.Age, bins=[0,19,30,40,70], labels=['Teen','Young_Adult','Adult','Elderly'],ordered=False)\n",
    "df.insert(3,'Age_Group',age_category)"
   ]
  },
  {
   "cell_type": "code",
   "execution_count": 54,
   "metadata": {},
   "outputs": [],
   "source": [
    "#Calculating BMI using Height and Weight\n",
    "bmi = df.Weight / (df.Height)**2\n",
    "pd.DataFrame(bmi, columns=['BMI'])\n",
    "bmi_category = pd.cut(bmi, bins=[0,18.5,24.9,29.9,60], labels=['Underweight','Normal_Weight','Overweight','Obese'])\n",
    "df.insert(6,'BMI',bmi_category)"
   ]
  },
  {
   "cell_type": "code",
   "execution_count": 55,
   "metadata": {},
   "outputs": [],
   "source": [
    "#Converting Gender to Categorical\n",
    "df['Gender'] = df['Gender'].astype('category')"
   ]
  },
  {
   "cell_type": "code",
   "execution_count": 56,
   "metadata": {},
   "outputs": [],
   "source": [
    "#Rounding up Number of Main Meals\n",
    "for index, data in enumerate(df['NCP']):\n",
    "    if data >= 1.0 and data <=1.50:\n",
    "        df.loc[index, 'NCP'] = 1.0\n",
    "    elif data > 1.50 and data <=2.0:\n",
    "        df.loc[index, 'NCP'] = 2.0\n",
    "    elif data > 2.0 and data <=2.50:\n",
    "        df.loc[index, 'NCP'] = 2.0\n",
    "    elif data > 2.50 and data <=3.0:\n",
    "        df.loc[index, 'NCP'] = 3.0\n",
    "    else:\n",
    "        df.loc[index, 'NCP'] = 4.0\n"
   ]
  },
  {
   "cell_type": "code",
   "execution_count": 57,
   "metadata": {},
   "outputs": [],
   "source": [
    "#Converting FAF column to category\n",
    "gym_category = pd.cut(df.FAF, bins=[0.0,0.5,2.0,3.0], labels=['Low','Mid','High'],ordered=True)\n",
    "df.insert(17,'FAF_Level',gym_category)"
   ]
  },
  {
   "cell_type": "code",
   "execution_count": 58,
   "metadata": {},
   "outputs": [
    {
     "name": "stderr",
     "output_type": "stream",
     "text": [
      "/var/folders/22/bf4_mcm93tv3vmh7w13_jvrh0000gn/T/ipykernel_56001/3270670828.py:2: FutureWarning: A value is trying to be set on a copy of a DataFrame or Series through chained assignment using an inplace method.\n",
      "The behavior will change in pandas 3.0. This inplace method will never work because the intermediate object on which we are setting values always behaves as a copy.\n",
      "\n",
      "For example, when doing 'df[col].method(value, inplace=True)', try using 'df.method({col: value}, inplace=True)' or df[col] = df[col].method(value) instead, to perform the operation inplace on the original object.\n",
      "\n",
      "\n",
      "  df['FAF_Level'].fillna('Low', inplace=True)\n"
     ]
    }
   ],
   "source": [
    "#Filled missed values\n",
    "df['FAF_Level'].fillna('Low', inplace=True)"
   ]
  },
  {
   "cell_type": "code",
   "execution_count": 59,
   "metadata": {},
   "outputs": [],
   "source": [
    "#Categorizing Consumption of Alcohol\n",
    "for index, alc in enumerate(df['CALC']):\n",
    "    if alc in 'no':\n",
    "        df.loc[index, 'CALC'] = 'None'\n",
    "    elif alc in 'Sometimes':\n",
    "        df.loc[index, 'CALC'] = 'Low'\n",
    "    else:\n",
    "        df.loc[index, 'CALC'] = 'High'\n",
    "        "
   ]
  },
  {
   "cell_type": "code",
   "execution_count": 60,
   "metadata": {},
   "outputs": [],
   "source": [
    "#Converting CALC into categorical\n",
    "df['CALC'] = pd.Categorical(df['CALC'], categories=['None','Low','High'], ordered=True)\n"
   ]
  },
  {
   "cell_type": "code",
   "execution_count": 61,
   "metadata": {},
   "outputs": [],
   "source": [
    "#Converting family_history into categorical\n",
    "df['family_history_with_overweight'] = df['family_history_with_overweight'].astype('bool')"
   ]
  },
  {
   "cell_type": "markdown",
   "metadata": {},
   "source": [
    "### Model Training"
   ]
  },
  {
   "cell_type": "code",
   "execution_count": 62,
   "metadata": {},
   "outputs": [
    {
     "data": {
      "text/plain": [
       "id                                   int64\n",
       "Gender                            category\n",
       "Age                                float64\n",
       "Age_Group                         category\n",
       "Height                             float64\n",
       "Weight                             float64\n",
       "BMI                               category\n",
       "family_history_with_overweight        bool\n",
       "FAVC                                object\n",
       "FCVC                               float64\n",
       "NCP                                float64\n",
       "CAEC                                object\n",
       "SMOKE                               object\n",
       "CH2O                               float64\n",
       "SCC                                 object\n",
       "FAF                                float64\n",
       "TUE                                float64\n",
       "FAF_Level                         category\n",
       "CALC                              category\n",
       "MTRANS                              object\n",
       "NObeyesdad                          object\n",
       "dtype: object"
      ]
     },
     "execution_count": 62,
     "metadata": {},
     "output_type": "execute_result"
    }
   ],
   "source": [
    "#Training and Testing Data\n",
    "classify_data = df.copy()\n",
    "\n",
    "classify_data.dtypes\n"
   ]
  },
  {
   "cell_type": "code",
   "execution_count": 63,
   "metadata": {},
   "outputs": [],
   "source": [
    "#Ordinal Columns: BMI, FAF_Level, CALC\n",
    "bmi_encoder = OrdinalEncoder(categories=[['Underweight', 'Normal_Weight', 'Overweight', 'Obese']])\n",
    "faf_encoder = OrdinalEncoder(categories=[['Low', 'Mid', 'High']])\n",
    "calc_encoder = OrdinalEncoder(categories=[['None', 'Low', 'High']])\n",
    "obesity_encoder = LabelEncoder()\n",
    "\n",
    "classify_data['BMI_labeled'] = bmi_encoder.fit_transform(classify_data[['BMI']])\n",
    "classify_data['FAF_Level_labeled'] = faf_encoder.fit_transform(classify_data[['FAF_Level']])\n",
    "classify_data['CALC_labeled'] = calc_encoder.fit_transform(classify_data[['CALC']])\n",
    "classify_data['NObeyesdad'] = obesity_encoder.fit_transform(classify_data['NObeyesdad'])\n",
    "\n",
    "classify_data['BMI_labeled'] = classify_data['BMI_labeled'].astype('int')\n",
    "classify_data['FAF_Level_labeled'] = classify_data['FAF_Level_labeled'].astype('int')\n",
    "classify_data['CALC_labeled'] = classify_data['CALC_labeled'].astype('int')\n",
    "classify_data['NObeyesdad'] = classify_data['NObeyesdad'].astype('int')\n",
    "\n",
    "\n"
   ]
  },
  {
   "cell_type": "code",
   "execution_count": null,
   "metadata": {},
   "outputs": [],
   "source": []
  },
  {
   "cell_type": "code",
   "execution_count": 64,
   "metadata": {},
   "outputs": [],
   "source": [
    "#Nominal Columns: Gender, Age_Group\n",
    "gender_encoded = pd.get_dummies(classify_data['Gender'], prefix='gender')\n",
    "age_encoded = pd.get_dummies(classify_data['Age_Group'], prefix='age')\n",
    "\n",
    "classify_data = pd.concat([classify_data, gender_encoded, age_encoded], axis=1)"
   ]
  },
  {
   "cell_type": "code",
   "execution_count": 65,
   "metadata": {},
   "outputs": [
    {
     "name": "stdout",
     "output_type": "stream",
     "text": [
      "(20758, 30) (13840, 30)\n"
     ]
    }
   ],
   "source": [
    "classify_train = classify_data.iloc[:len(train_data)].reset_index(drop=True)\n",
    "classify_test = classify_data.iloc[len(train_data):].reset_index(drop=True)\n",
    "\n",
    "print(classify_train.shape,classify_test.shape)"
   ]
  },
  {
   "cell_type": "code",
   "execution_count": 68,
   "metadata": {},
   "outputs": [
    {
     "name": "stdout",
     "output_type": "stream",
     "text": [
      "(20758, 11) (20758,)\n"
     ]
    }
   ],
   "source": [
    "#Splitting into X_train and y_train\n",
    "X_train = classify_train.drop(['id','Gender','age_Teen', 'age_Young_Adult', 'age_Adult' ,'age_Elderly' ,'Age_Group','Height','BMI','Weight','FAVC','CAEC','SMOKE','SCC','FAF','MTRANS','NObeyesdad','FAF_Level','CALC'], axis=1)\n",
    "y_train = classify_train[['NObeyesdad']]\n",
    "\n",
    "y_train2d = y_train.values\n",
    "y_train = y_train2d.ravel()\n",
    "print(X_train.shape,y_train.shape)\n"
   ]
  },
  {
   "cell_type": "code",
   "execution_count": 67,
   "metadata": {},
   "outputs": [
    {
     "data": {
      "text/html": [
       "<div>\n",
       "<style scoped>\n",
       "    .dataframe tbody tr th:only-of-type {\n",
       "        vertical-align: middle;\n",
       "    }\n",
       "\n",
       "    .dataframe tbody tr th {\n",
       "        vertical-align: top;\n",
       "    }\n",
       "\n",
       "    .dataframe thead th {\n",
       "        text-align: right;\n",
       "    }\n",
       "</style>\n",
       "<table border=\"1\" class=\"dataframe\">\n",
       "  <thead>\n",
       "    <tr style=\"text-align: right;\">\n",
       "      <th></th>\n",
       "      <th>id</th>\n",
       "      <th>Gender</th>\n",
       "      <th>Age</th>\n",
       "      <th>Age_Group</th>\n",
       "      <th>Height</th>\n",
       "      <th>Weight</th>\n",
       "      <th>BMI</th>\n",
       "      <th>family_history_with_overweight</th>\n",
       "      <th>FAVC</th>\n",
       "      <th>FCVC</th>\n",
       "      <th>...</th>\n",
       "      <th>NObeyesdad</th>\n",
       "      <th>BMI_labeled</th>\n",
       "      <th>FAF_Level_labeled</th>\n",
       "      <th>CALC_labeled</th>\n",
       "      <th>gender_Female</th>\n",
       "      <th>gender_Male</th>\n",
       "      <th>age_Teen</th>\n",
       "      <th>age_Young_Adult</th>\n",
       "      <th>age_Adult</th>\n",
       "      <th>age_Elderly</th>\n",
       "    </tr>\n",
       "  </thead>\n",
       "  <tbody>\n",
       "    <tr>\n",
       "      <th>0</th>\n",
       "      <td>0</td>\n",
       "      <td>Male</td>\n",
       "      <td>24.443011</td>\n",
       "      <td>Young_Adult</td>\n",
       "      <td>1.699998</td>\n",
       "      <td>81.669950</td>\n",
       "      <td>Overweight</td>\n",
       "      <td>True</td>\n",
       "      <td>yes</td>\n",
       "      <td>2.000000</td>\n",
       "      <td>...</td>\n",
       "      <td>6</td>\n",
       "      <td>2</td>\n",
       "      <td>0</td>\n",
       "      <td>1</td>\n",
       "      <td>False</td>\n",
       "      <td>True</td>\n",
       "      <td>False</td>\n",
       "      <td>True</td>\n",
       "      <td>False</td>\n",
       "      <td>False</td>\n",
       "    </tr>\n",
       "    <tr>\n",
       "      <th>1</th>\n",
       "      <td>1</td>\n",
       "      <td>Female</td>\n",
       "      <td>18.000000</td>\n",
       "      <td>Teen</td>\n",
       "      <td>1.560000</td>\n",
       "      <td>57.000000</td>\n",
       "      <td>Normal_Weight</td>\n",
       "      <td>True</td>\n",
       "      <td>yes</td>\n",
       "      <td>2.000000</td>\n",
       "      <td>...</td>\n",
       "      <td>1</td>\n",
       "      <td>1</td>\n",
       "      <td>1</td>\n",
       "      <td>0</td>\n",
       "      <td>True</td>\n",
       "      <td>False</td>\n",
       "      <td>True</td>\n",
       "      <td>False</td>\n",
       "      <td>False</td>\n",
       "      <td>False</td>\n",
       "    </tr>\n",
       "    <tr>\n",
       "      <th>2</th>\n",
       "      <td>2</td>\n",
       "      <td>Female</td>\n",
       "      <td>18.000000</td>\n",
       "      <td>Teen</td>\n",
       "      <td>1.711460</td>\n",
       "      <td>50.165754</td>\n",
       "      <td>Underweight</td>\n",
       "      <td>True</td>\n",
       "      <td>yes</td>\n",
       "      <td>1.880534</td>\n",
       "      <td>...</td>\n",
       "      <td>0</td>\n",
       "      <td>0</td>\n",
       "      <td>1</td>\n",
       "      <td>0</td>\n",
       "      <td>True</td>\n",
       "      <td>False</td>\n",
       "      <td>True</td>\n",
       "      <td>False</td>\n",
       "      <td>False</td>\n",
       "      <td>False</td>\n",
       "    </tr>\n",
       "    <tr>\n",
       "      <th>3</th>\n",
       "      <td>3</td>\n",
       "      <td>Female</td>\n",
       "      <td>20.952737</td>\n",
       "      <td>Young_Adult</td>\n",
       "      <td>1.710730</td>\n",
       "      <td>131.274851</td>\n",
       "      <td>Obese</td>\n",
       "      <td>True</td>\n",
       "      <td>yes</td>\n",
       "      <td>3.000000</td>\n",
       "      <td>...</td>\n",
       "      <td>4</td>\n",
       "      <td>3</td>\n",
       "      <td>1</td>\n",
       "      <td>1</td>\n",
       "      <td>True</td>\n",
       "      <td>False</td>\n",
       "      <td>False</td>\n",
       "      <td>True</td>\n",
       "      <td>False</td>\n",
       "      <td>False</td>\n",
       "    </tr>\n",
       "    <tr>\n",
       "      <th>4</th>\n",
       "      <td>4</td>\n",
       "      <td>Male</td>\n",
       "      <td>31.641081</td>\n",
       "      <td>Adult</td>\n",
       "      <td>1.914186</td>\n",
       "      <td>93.798055</td>\n",
       "      <td>Overweight</td>\n",
       "      <td>True</td>\n",
       "      <td>yes</td>\n",
       "      <td>2.679664</td>\n",
       "      <td>...</td>\n",
       "      <td>6</td>\n",
       "      <td>2</td>\n",
       "      <td>1</td>\n",
       "      <td>1</td>\n",
       "      <td>False</td>\n",
       "      <td>True</td>\n",
       "      <td>False</td>\n",
       "      <td>False</td>\n",
       "      <td>True</td>\n",
       "      <td>False</td>\n",
       "    </tr>\n",
       "  </tbody>\n",
       "</table>\n",
       "<p>5 rows × 30 columns</p>\n",
       "</div>"
      ],
      "text/plain": [
       "   id  Gender        Age    Age_Group    Height      Weight            BMI  \\\n",
       "0   0    Male  24.443011  Young_Adult  1.699998   81.669950     Overweight   \n",
       "1   1  Female  18.000000         Teen  1.560000   57.000000  Normal_Weight   \n",
       "2   2  Female  18.000000         Teen  1.711460   50.165754    Underweight   \n",
       "3   3  Female  20.952737  Young_Adult  1.710730  131.274851          Obese   \n",
       "4   4    Male  31.641081        Adult  1.914186   93.798055     Overweight   \n",
       "\n",
       "   family_history_with_overweight FAVC      FCVC  ...  NObeyesdad BMI_labeled  \\\n",
       "0                            True  yes  2.000000  ...           6           2   \n",
       "1                            True  yes  2.000000  ...           1           1   \n",
       "2                            True  yes  1.880534  ...           0           0   \n",
       "3                            True  yes  3.000000  ...           4           3   \n",
       "4                            True  yes  2.679664  ...           6           2   \n",
       "\n",
       "  FAF_Level_labeled  CALC_labeled gender_Female  gender_Male  age_Teen  \\\n",
       "0                 0             1         False         True     False   \n",
       "1                 1             0          True        False      True   \n",
       "2                 1             0          True        False      True   \n",
       "3                 1             1          True        False     False   \n",
       "4                 1             1         False         True     False   \n",
       "\n",
       "  age_Young_Adult age_Adult age_Elderly  \n",
       "0            True     False       False  \n",
       "1           False     False       False  \n",
       "2           False     False       False  \n",
       "3            True     False       False  \n",
       "4           False      True       False  \n",
       "\n",
       "[5 rows x 30 columns]"
      ]
     },
     "execution_count": 67,
     "metadata": {},
     "output_type": "execute_result"
    }
   ],
   "source": [
    "classify_data[:5]"
   ]
  },
  {
   "cell_type": "code",
   "execution_count": 69,
   "metadata": {},
   "outputs": [
    {
     "data": {
      "text/plain": [
       "Age                               float64\n",
       "family_history_with_overweight       bool\n",
       "FCVC                              float64\n",
       "NCP                               float64\n",
       "CH2O                              float64\n",
       "TUE                               float64\n",
       "BMI_labeled                         int64\n",
       "FAF_Level_labeled                   int64\n",
       "CALC_labeled                        int64\n",
       "gender_Female                        bool\n",
       "gender_Male                          bool\n",
       "dtype: object"
      ]
     },
     "execution_count": 69,
     "metadata": {},
     "output_type": "execute_result"
    }
   ],
   "source": [
    "X_train.dtypes"
   ]
  },
  {
   "cell_type": "code",
   "execution_count": 70,
   "metadata": {},
   "outputs": [
    {
     "name": "stdout",
     "output_type": "stream",
     "text": [
      "(13840, 11) (13840, 2)\n"
     ]
    }
   ],
   "source": [
    "#'id','Age','Gender','Age_Group','Height','BMI','Weight','FAVC','CAEC','SMOKE','SCC','FAF','MTRANS','NObeyesdad','FAF_Level','CALC'\n",
    "#Creating Test Sets \n",
    "X_test = classify_test.drop(['id','Gender','age_Teen', 'age_Young_Adult', 'age_Adult' ,'age_Elderly' ,'Age_Group','Height','BMI','Weight','FAVC','CAEC','SMOKE','SCC','FAF','MTRANS','NObeyesdad','FAF_Level','CALC'], axis=1)\n",
    "y_test = classify_test[['id','NObeyesdad']]\n",
    "print(X_test.shape,y_test.shape)"
   ]
  },
  {
   "cell_type": "code",
   "execution_count": 71,
   "metadata": {},
   "outputs": [],
   "source": [
    "#Creating a directory for storing models and hyoer-parameters\n",
    "model_dict = \\\n",
    "{\n",
    "'SVC': [SVC(random_state = 10), {'C': range(3,10,1)}],\n",
    "'DTree' : [DecisionTreeClassifier(random_state= 10), {'max_depth': range(4,8,1), 'min_samples_leaf' : range(3,12,1)}],\n",
    "'RandomForest': [RFC(random_state =10), \n",
    "                 {'n_estimators': range(50,300,25), 'max_depth': range(4,7,1)}],\n",
    "'GBM': [GradientBoostingClassifier(random_state= 10), {'max_depth' : range(2,6,1)}],\n",
    "'XgBoost': [XGBClassifier(eval_metric= 'logloss'), {}]\n",
    "};\n",
    "\n",
    "cv = None\n",
    "\n",
    "# Creating model output storage objects:-\n",
    "model_metrics = pd.DataFrame(data= None, index= list(model_dict.keys()), dtype= np.float32,\n",
    "                             columns= ['Accuracy_Score']);\n",
    "model_predictions = pd.DataFrame(data= None, index= None, columns= None);"
   ]
  },
  {
   "cell_type": "code",
   "execution_count": 72,
   "metadata": {},
   "outputs": [
    {
     "data": {
      "application/vnd.jupyter.widget-view+json": {
       "model_id": "baedc64f291c47f7a2e88f0bd9a44106",
       "version_major": 2,
       "version_minor": 0
      },
      "text/plain": [
       "  0%|          | 0/5 [00:00<?, ?it/s]"
      ]
     },
     "metadata": {},
     "output_type": "display_data"
    },
    {
     "name": "stdout",
     "output_type": "stream",
     "text": [
      "\n",
      "Current model is SVC\n",
      "Best estimator is \n",
      "SVC(C=9, random_state=10)\n",
      "\n"
     ]
    },
    {
     "name": "stderr",
     "output_type": "stream",
     "text": [
      "/var/folders/22/bf4_mcm93tv3vmh7w13_jvrh0000gn/T/ipykernel_56001/3817762429.py:10: FutureWarning: Setting an item of incompatible dtype is deprecated and will raise an error in a future version of pandas. Value '0.8171307447730995' has dtype incompatible with float32, please explicitly cast to a compatible dtype first.\n",
      "  model_metrics.loc[model_label] = (\n"
     ]
    },
    {
     "name": "stdout",
     "output_type": "stream",
     "text": [
      "\n",
      "Current model is DTree\n",
      "Best estimator is \n",
      "DecisionTreeClassifier(max_depth=7, min_samples_leaf=8, random_state=10)\n",
      "\n",
      "\n",
      "Current model is RandomForest\n",
      "Best estimator is \n",
      "RandomForestClassifier(max_depth=6, n_estimators=75, random_state=10)\n",
      "\n",
      "\n",
      "Current model is GBM\n",
      "Best estimator is \n",
      "GradientBoostingClassifier(max_depth=4, random_state=10)\n",
      "\n",
      "\n",
      "Current model is XgBoost\n",
      "Best estimator is \n",
      "XGBClassifier(base_score=None, booster=None, callbacks=None,\n",
      "              colsample_bylevel=None, colsample_bynode=None,\n",
      "              colsample_bytree=None, device=None, early_stopping_rounds=None,\n",
      "              enable_categorical=False, eval_metric='logloss',\n",
      "              feature_types=None, gamma=None, grow_policy=None,\n",
      "              importance_type=None, interaction_constraints=None,\n",
      "              learning_rate=None, max_bin=None, max_cat_threshold=None,\n",
      "              max_cat_to_onehot=None, max_delta_step=None, max_depth=None,\n",
      "              max_leaves=None, min_child_weight=None, missing=nan,\n",
      "              monotone_constraints=None, multi_strategy=None, n_estimators=None,\n",
      "              n_jobs=None, num_parallel_tree=None, objective='multi:softprob', ...)\n",
      "\n",
      "\n",
      "\n",
      "Training set scores across models:-\n",
      "\n"
     ]
    },
    {
     "data": {
      "text/html": [
       "<style type=\"text/css\">\n",
       "</style>\n",
       "<table id=\"T_c5540\">\n",
       "  <thead>\n",
       "    <tr>\n",
       "      <th class=\"blank level0\" >&nbsp;</th>\n",
       "      <th id=\"T_c5540_level0_col0\" class=\"col_heading level0 col0\" >Accuracy_Score</th>\n",
       "    </tr>\n",
       "  </thead>\n",
       "  <tbody>\n",
       "    <tr>\n",
       "      <th id=\"T_c5540_level0_row0\" class=\"row_heading level0 row0\" >SVC</th>\n",
       "      <td id=\"T_c5540_row0_col0\" class=\"data row0 col0\" >81.71%</td>\n",
       "    </tr>\n",
       "    <tr>\n",
       "      <th id=\"T_c5540_level0_row1\" class=\"row_heading level0 row1\" >DTree</th>\n",
       "      <td id=\"T_c5540_row1_col0\" class=\"data row1 col0\" >83.90%</td>\n",
       "    </tr>\n",
       "    <tr>\n",
       "      <th id=\"T_c5540_level0_row2\" class=\"row_heading level0 row2\" >RandomForest</th>\n",
       "      <td id=\"T_c5540_row2_col0\" class=\"data row2 col0\" >83.63%</td>\n",
       "    </tr>\n",
       "    <tr>\n",
       "      <th id=\"T_c5540_level0_row3\" class=\"row_heading level0 row3\" >GBM</th>\n",
       "      <td id=\"T_c5540_row3_col0\" class=\"data row3 col0\" >87.54%</td>\n",
       "    </tr>\n",
       "    <tr>\n",
       "      <th id=\"T_c5540_level0_row4\" class=\"row_heading level0 row4\" >XgBoost</th>\n",
       "      <td id=\"T_c5540_row4_col0\" class=\"data row4 col0\" >91.62%</td>\n",
       "    </tr>\n",
       "  </tbody>\n",
       "</table>\n"
      ],
      "text/plain": [
       "<pandas.io.formats.style.Styler at 0x7f8cb3dac760>"
      ]
     },
     "metadata": {},
     "output_type": "display_data"
    }
   ],
   "source": [
    "#Implementing all models and finding out best model based on accuracy using GridSearchCV:\n",
    "for model_label, model_param in tqdm(model_dict.items()):\n",
    "    print(f\"\\nCurrent model is {model_label}\")\n",
    "    grid = GridSearchCV(estimator = model_param[0], param_grid = model_param[1], scoring='accuracy', refit=True, cv=cv);\n",
    "    grid.fit(X_train, y_train);\n",
    "    print(f\"\"\"Best estimator is \\n{grid.best_estimator_}\\n\"\"\")\n",
    "    \n",
    "    ytrain_pred = grid.predict(X_train);\n",
    "    \n",
    "    model_metrics.loc[model_label] = (\n",
    "                                  accuracy_score(y_train, ytrain_pred)\n",
    "                                 );\n",
    "    \n",
    "    model_predictions = pd.concat((model_predictions,pd.DataFrame(grid.predict(X_test), index = X_test.index, columns = [model_label])),\n",
    "                             axis= 1, join='outer');\n",
    "\n",
    "print(f\"\\n\\nTraining set scores across models:-\\n\")\n",
    "display(model_metrics.style.format('{:.2%}'));\n"
   ]
  },
  {
   "cell_type": "code",
   "execution_count": 73,
   "metadata": {},
   "outputs": [
    {
     "data": {
      "text/html": [
       "<div>\n",
       "<style scoped>\n",
       "    .dataframe tbody tr th:only-of-type {\n",
       "        vertical-align: middle;\n",
       "    }\n",
       "\n",
       "    .dataframe tbody tr th {\n",
       "        vertical-align: top;\n",
       "    }\n",
       "\n",
       "    .dataframe thead th {\n",
       "        text-align: right;\n",
       "    }\n",
       "</style>\n",
       "<table border=\"1\" class=\"dataframe\">\n",
       "  <thead>\n",
       "    <tr style=\"text-align: right;\">\n",
       "      <th></th>\n",
       "      <th>SVC</th>\n",
       "      <th>DTree</th>\n",
       "      <th>RandomForest</th>\n",
       "      <th>GBM</th>\n",
       "      <th>XgBoost</th>\n",
       "    </tr>\n",
       "  </thead>\n",
       "  <tbody>\n",
       "    <tr>\n",
       "      <th>0</th>\n",
       "      <td>3</td>\n",
       "      <td>3</td>\n",
       "      <td>3</td>\n",
       "      <td>3</td>\n",
       "      <td>3</td>\n",
       "    </tr>\n",
       "    <tr>\n",
       "      <th>1</th>\n",
       "      <td>5</td>\n",
       "      <td>5</td>\n",
       "      <td>5</td>\n",
       "      <td>5</td>\n",
       "      <td>5</td>\n",
       "    </tr>\n",
       "    <tr>\n",
       "      <th>2</th>\n",
       "      <td>4</td>\n",
       "      <td>4</td>\n",
       "      <td>4</td>\n",
       "      <td>4</td>\n",
       "      <td>4</td>\n",
       "    </tr>\n",
       "    <tr>\n",
       "      <th>3</th>\n",
       "      <td>2</td>\n",
       "      <td>2</td>\n",
       "      <td>2</td>\n",
       "      <td>2</td>\n",
       "      <td>2</td>\n",
       "    </tr>\n",
       "    <tr>\n",
       "      <th>4</th>\n",
       "      <td>4</td>\n",
       "      <td>4</td>\n",
       "      <td>4</td>\n",
       "      <td>4</td>\n",
       "      <td>4</td>\n",
       "    </tr>\n",
       "    <tr>\n",
       "      <th>...</th>\n",
       "      <td>...</td>\n",
       "      <td>...</td>\n",
       "      <td>...</td>\n",
       "      <td>...</td>\n",
       "      <td>...</td>\n",
       "    </tr>\n",
       "    <tr>\n",
       "      <th>13835</th>\n",
       "      <td>6</td>\n",
       "      <td>6</td>\n",
       "      <td>6</td>\n",
       "      <td>5</td>\n",
       "      <td>6</td>\n",
       "    </tr>\n",
       "    <tr>\n",
       "      <th>13836</th>\n",
       "      <td>1</td>\n",
       "      <td>1</td>\n",
       "      <td>1</td>\n",
       "      <td>1</td>\n",
       "      <td>1</td>\n",
       "    </tr>\n",
       "    <tr>\n",
       "      <th>13837</th>\n",
       "      <td>0</td>\n",
       "      <td>0</td>\n",
       "      <td>0</td>\n",
       "      <td>0</td>\n",
       "      <td>0</td>\n",
       "    </tr>\n",
       "    <tr>\n",
       "      <th>13838</th>\n",
       "      <td>1</td>\n",
       "      <td>1</td>\n",
       "      <td>1</td>\n",
       "      <td>1</td>\n",
       "      <td>1</td>\n",
       "    </tr>\n",
       "    <tr>\n",
       "      <th>13839</th>\n",
       "      <td>3</td>\n",
       "      <td>3</td>\n",
       "      <td>3</td>\n",
       "      <td>3</td>\n",
       "      <td>3</td>\n",
       "    </tr>\n",
       "  </tbody>\n",
       "</table>\n",
       "<p>13840 rows × 5 columns</p>\n",
       "</div>"
      ],
      "text/plain": [
       "       SVC  DTree  RandomForest  GBM  XgBoost\n",
       "0        3      3             3    3        3\n",
       "1        5      5             5    5        5\n",
       "2        4      4             4    4        4\n",
       "3        2      2             2    2        2\n",
       "4        4      4             4    4        4\n",
       "...    ...    ...           ...  ...      ...\n",
       "13835    6      6             6    5        6\n",
       "13836    1      1             1    1        1\n",
       "13837    0      0             0    0        0\n",
       "13838    1      1             1    1        1\n",
       "13839    3      3             3    3        3\n",
       "\n",
       "[13840 rows x 5 columns]"
      ]
     },
     "execution_count": 73,
     "metadata": {},
     "output_type": "execute_result"
    }
   ],
   "source": [
    "model_predictions[:]"
   ]
  },
  {
   "cell_type": "code",
   "execution_count": 74,
   "metadata": {},
   "outputs": [
    {
     "data": {
      "text/plain": [
       "{0: 'Insufficient_Weight',\n",
       " 1: 'Normal_Weight',\n",
       " 2: 'Obesity_Type_I',\n",
       " 3: 'Obesity_Type_II',\n",
       " 4: 'Obesity_Type_III',\n",
       " 5: 'Overweight_Level_I',\n",
       " 6: 'Overweight_Level_II',\n",
       " 7: nan}"
      ]
     },
     "execution_count": 74,
     "metadata": {},
     "output_type": "execute_result"
    }
   ],
   "source": [
    "label_mapping = dict(zip(obesity_encoder.transform(obesity_encoder.classes_), obesity_encoder.classes_))\n",
    "label_mapping"
   ]
  },
  {
   "cell_type": "code",
   "execution_count": 75,
   "metadata": {},
   "outputs": [],
   "source": [
    "model_predictions['Xgboost_labels'] = model_predictions['XgBoost'].map(label_mapping)"
   ]
  },
  {
   "cell_type": "code",
   "execution_count": 76,
   "metadata": {},
   "outputs": [
    {
     "data": {
      "text/html": [
       "<div>\n",
       "<style scoped>\n",
       "    .dataframe tbody tr th:only-of-type {\n",
       "        vertical-align: middle;\n",
       "    }\n",
       "\n",
       "    .dataframe tbody tr th {\n",
       "        vertical-align: top;\n",
       "    }\n",
       "\n",
       "    .dataframe thead th {\n",
       "        text-align: right;\n",
       "    }\n",
       "</style>\n",
       "<table border=\"1\" class=\"dataframe\">\n",
       "  <thead>\n",
       "    <tr style=\"text-align: right;\">\n",
       "      <th></th>\n",
       "      <th>SVC</th>\n",
       "      <th>DTree</th>\n",
       "      <th>RandomForest</th>\n",
       "      <th>GBM</th>\n",
       "      <th>XgBoost</th>\n",
       "      <th>Xgboost_labels</th>\n",
       "    </tr>\n",
       "  </thead>\n",
       "  <tbody>\n",
       "    <tr>\n",
       "      <th>0</th>\n",
       "      <td>3</td>\n",
       "      <td>3</td>\n",
       "      <td>3</td>\n",
       "      <td>3</td>\n",
       "      <td>3</td>\n",
       "      <td>Obesity_Type_II</td>\n",
       "    </tr>\n",
       "    <tr>\n",
       "      <th>1</th>\n",
       "      <td>5</td>\n",
       "      <td>5</td>\n",
       "      <td>5</td>\n",
       "      <td>5</td>\n",
       "      <td>5</td>\n",
       "      <td>Overweight_Level_I</td>\n",
       "    </tr>\n",
       "    <tr>\n",
       "      <th>2</th>\n",
       "      <td>4</td>\n",
       "      <td>4</td>\n",
       "      <td>4</td>\n",
       "      <td>4</td>\n",
       "      <td>4</td>\n",
       "      <td>Obesity_Type_III</td>\n",
       "    </tr>\n",
       "    <tr>\n",
       "      <th>3</th>\n",
       "      <td>2</td>\n",
       "      <td>2</td>\n",
       "      <td>2</td>\n",
       "      <td>2</td>\n",
       "      <td>2</td>\n",
       "      <td>Obesity_Type_I</td>\n",
       "    </tr>\n",
       "    <tr>\n",
       "      <th>4</th>\n",
       "      <td>4</td>\n",
       "      <td>4</td>\n",
       "      <td>4</td>\n",
       "      <td>4</td>\n",
       "      <td>4</td>\n",
       "      <td>Obesity_Type_III</td>\n",
       "    </tr>\n",
       "    <tr>\n",
       "      <th>...</th>\n",
       "      <td>...</td>\n",
       "      <td>...</td>\n",
       "      <td>...</td>\n",
       "      <td>...</td>\n",
       "      <td>...</td>\n",
       "      <td>...</td>\n",
       "    </tr>\n",
       "    <tr>\n",
       "      <th>13835</th>\n",
       "      <td>6</td>\n",
       "      <td>6</td>\n",
       "      <td>6</td>\n",
       "      <td>5</td>\n",
       "      <td>6</td>\n",
       "      <td>Overweight_Level_II</td>\n",
       "    </tr>\n",
       "    <tr>\n",
       "      <th>13836</th>\n",
       "      <td>1</td>\n",
       "      <td>1</td>\n",
       "      <td>1</td>\n",
       "      <td>1</td>\n",
       "      <td>1</td>\n",
       "      <td>Normal_Weight</td>\n",
       "    </tr>\n",
       "    <tr>\n",
       "      <th>13837</th>\n",
       "      <td>0</td>\n",
       "      <td>0</td>\n",
       "      <td>0</td>\n",
       "      <td>0</td>\n",
       "      <td>0</td>\n",
       "      <td>Insufficient_Weight</td>\n",
       "    </tr>\n",
       "    <tr>\n",
       "      <th>13838</th>\n",
       "      <td>1</td>\n",
       "      <td>1</td>\n",
       "      <td>1</td>\n",
       "      <td>1</td>\n",
       "      <td>1</td>\n",
       "      <td>Normal_Weight</td>\n",
       "    </tr>\n",
       "    <tr>\n",
       "      <th>13839</th>\n",
       "      <td>3</td>\n",
       "      <td>3</td>\n",
       "      <td>3</td>\n",
       "      <td>3</td>\n",
       "      <td>3</td>\n",
       "      <td>Obesity_Type_II</td>\n",
       "    </tr>\n",
       "  </tbody>\n",
       "</table>\n",
       "<p>13840 rows × 6 columns</p>\n",
       "</div>"
      ],
      "text/plain": [
       "       SVC  DTree  RandomForest  GBM  XgBoost       Xgboost_labels\n",
       "0        3      3             3    3        3      Obesity_Type_II\n",
       "1        5      5             5    5        5   Overweight_Level_I\n",
       "2        4      4             4    4        4     Obesity_Type_III\n",
       "3        2      2             2    2        2       Obesity_Type_I\n",
       "4        4      4             4    4        4     Obesity_Type_III\n",
       "...    ...    ...           ...  ...      ...                  ...\n",
       "13835    6      6             6    5        6  Overweight_Level_II\n",
       "13836    1      1             1    1        1        Normal_Weight\n",
       "13837    0      0             0    0        0  Insufficient_Weight\n",
       "13838    1      1             1    1        1        Normal_Weight\n",
       "13839    3      3             3    3        3      Obesity_Type_II\n",
       "\n",
       "[13840 rows x 6 columns]"
      ]
     },
     "execution_count": 76,
     "metadata": {},
     "output_type": "execute_result"
    }
   ],
   "source": [
    "model_predictions"
   ]
  },
  {
   "cell_type": "code",
   "execution_count": 77,
   "metadata": {},
   "outputs": [
    {
     "data": {
      "text/html": [
       "<div>\n",
       "<style scoped>\n",
       "    .dataframe tbody tr th:only-of-type {\n",
       "        vertical-align: middle;\n",
       "    }\n",
       "\n",
       "    .dataframe tbody tr th {\n",
       "        vertical-align: top;\n",
       "    }\n",
       "\n",
       "    .dataframe thead th {\n",
       "        text-align: right;\n",
       "    }\n",
       "</style>\n",
       "<table border=\"1\" class=\"dataframe\">\n",
       "  <thead>\n",
       "    <tr style=\"text-align: right;\">\n",
       "      <th></th>\n",
       "      <th>id</th>\n",
       "      <th>NObeyesdad</th>\n",
       "    </tr>\n",
       "  </thead>\n",
       "  <tbody>\n",
       "    <tr>\n",
       "      <th>0</th>\n",
       "      <td>20758</td>\n",
       "      <td>Obesity_Type_II</td>\n",
       "    </tr>\n",
       "    <tr>\n",
       "      <th>1</th>\n",
       "      <td>20759</td>\n",
       "      <td>Overweight_Level_I</td>\n",
       "    </tr>\n",
       "    <tr>\n",
       "      <th>2</th>\n",
       "      <td>20760</td>\n",
       "      <td>Obesity_Type_III</td>\n",
       "    </tr>\n",
       "    <tr>\n",
       "      <th>3</th>\n",
       "      <td>20761</td>\n",
       "      <td>Obesity_Type_I</td>\n",
       "    </tr>\n",
       "    <tr>\n",
       "      <th>4</th>\n",
       "      <td>20762</td>\n",
       "      <td>Obesity_Type_III</td>\n",
       "    </tr>\n",
       "    <tr>\n",
       "      <th>...</th>\n",
       "      <td>...</td>\n",
       "      <td>...</td>\n",
       "    </tr>\n",
       "    <tr>\n",
       "      <th>13835</th>\n",
       "      <td>34593</td>\n",
       "      <td>Overweight_Level_II</td>\n",
       "    </tr>\n",
       "    <tr>\n",
       "      <th>13836</th>\n",
       "      <td>34594</td>\n",
       "      <td>Normal_Weight</td>\n",
       "    </tr>\n",
       "    <tr>\n",
       "      <th>13837</th>\n",
       "      <td>34595</td>\n",
       "      <td>Insufficient_Weight</td>\n",
       "    </tr>\n",
       "    <tr>\n",
       "      <th>13838</th>\n",
       "      <td>34596</td>\n",
       "      <td>Normal_Weight</td>\n",
       "    </tr>\n",
       "    <tr>\n",
       "      <th>13839</th>\n",
       "      <td>34597</td>\n",
       "      <td>Obesity_Type_II</td>\n",
       "    </tr>\n",
       "  </tbody>\n",
       "</table>\n",
       "<p>13840 rows × 2 columns</p>\n",
       "</div>"
      ],
      "text/plain": [
       "          id           NObeyesdad\n",
       "0      20758      Obesity_Type_II\n",
       "1      20759   Overweight_Level_I\n",
       "2      20760     Obesity_Type_III\n",
       "3      20761       Obesity_Type_I\n",
       "4      20762     Obesity_Type_III\n",
       "...      ...                  ...\n",
       "13835  34593  Overweight_Level_II\n",
       "13836  34594        Normal_Weight\n",
       "13837  34595  Insufficient_Weight\n",
       "13838  34596        Normal_Weight\n",
       "13839  34597      Obesity_Type_II\n",
       "\n",
       "[13840 rows x 2 columns]"
      ]
     },
     "execution_count": 77,
     "metadata": {},
     "output_type": "execute_result"
    }
   ],
   "source": [
    "#Appending IDs to y_pred to matach submission format\n",
    "y_pred = pd.concat([classify_test['id'],model_predictions['Xgboost_labels']],axis=1)\n",
    "y_pred.columns = y_test.columns\n",
    "y_pred\n"
   ]
  },
  {
   "cell_type": "code",
   "execution_count": 78,
   "metadata": {},
   "outputs": [],
   "source": [
    "#Saving the Prediction in a CSV format\n",
    "y_pred.to_csv(f'{output_path}/submission.csv', index=False)"
   ]
  },
  {
   "cell_type": "code",
   "execution_count": null,
   "metadata": {},
   "outputs": [],
   "source": []
  }
 ],
 "metadata": {
  "kernelspec": {
   "display_name": "kaggle",
   "language": "python",
   "name": "python3"
  },
  "language_info": {
   "codemirror_mode": {
    "name": "ipython",
    "version": 3
   },
   "file_extension": ".py",
   "mimetype": "text/x-python",
   "name": "python",
   "nbconvert_exporter": "python",
   "pygments_lexer": "ipython3",
   "version": "3.9.18"
  }
 },
 "nbformat": 4,
 "nbformat_minor": 2
}
